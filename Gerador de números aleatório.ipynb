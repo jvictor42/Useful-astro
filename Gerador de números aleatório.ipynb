{
 "cells": [
  {
   "cell_type": "code",
   "execution_count": 2,
   "metadata": {},
   "outputs": [
    {
     "name": "stdout",
     "output_type": "stream",
     "text": [
      "0.6552675135846558\n",
      "0.6623798796570389\n",
      "0.4337571972789732\n",
      "0.5722044910460662\n",
      "0.7511616236530615\n",
      "0.5457291134402847\n",
      "0.521598378348429\n",
      "0.8182821526259589\n",
      "0.48332327056372437\n",
      "0.5514567135548186\n",
      "0.6414408120297285\n",
      "0.5109121080151704\n",
      "0.49992970779143286\n",
      "0.40380015503328615\n",
      "0.7284394660909586\n",
      "0.48070479497242813\n",
      "0.41521551792904365\n",
      "0.629543618946285\n",
      "0.7132936827449936\n",
      "0.844812649618902\n",
      "0.6068739681403033\n",
      "0.8137289463607302\n",
      "0.5898504438066939\n",
      "0.485065105980904\n",
      "0.5253041025537094\n",
      "0.6633703099766515\n",
      "0.6268306148298121\n",
      "0.630214758764831\n",
      "0.838523454388504\n",
      "0.765050325465114\n",
      "0.7843134559876372\n",
      "0.6162859503229535\n",
      "0.8127883710107605\n",
      "0.6484755320571458\n",
      "0.8310504432085913\n",
      "0.44704475816150646\n",
      "0.5746335054742348\n",
      "0.8430212270752172\n",
      "0.7261781827068372\n",
      "0.42937595702057463\n"
     ]
    }
   ],
   "source": [
    "#Usado para criar raios aleatórios da região dominante\n",
    "import random\n",
    "c=0\n",
    "while c!=40:\n",
    "    number = random.random()\n",
    "    if 0.39 < number < 0.85:\n",
    "        print(number)\n",
    "        c = c + 1"
   ]
  },
  {
   "cell_type": "code",
   "execution_count": null,
   "metadata": {},
   "outputs": [],
   "source": []
  },
  {
   "cell_type": "code",
   "execution_count": null,
   "metadata": {},
   "outputs": [],
   "source": []
  }
 ],
 "metadata": {
  "kernelspec": {
   "display_name": "Python 3",
   "language": "python",
   "name": "python3"
  },
  "language_info": {
   "codemirror_mode": {
    "name": "ipython",
    "version": 3
   },
   "file_extension": ".py",
   "mimetype": "text/x-python",
   "name": "python",
   "nbconvert_exporter": "python",
   "pygments_lexer": "ipython3",
   "version": "3.7.3"
  }
 },
 "nbformat": 4,
 "nbformat_minor": 2
}
